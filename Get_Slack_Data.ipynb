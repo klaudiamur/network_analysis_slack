{
 "cells": [
  {
   "cell_type": "code",
   "execution_count": 21,
   "metadata": {},
   "outputs": [
    {
     "output_type": "stream",
     "name": "stdout",
     "text": [
      "Float64Index([], dtype='float64')\nIndex(['id', 'name', 'created', 'creator', 'is_archived', 'is_general',\n       'members', 'topic', 'purpose'],\n      dtype='object')\nIndex(['id', 'team_id', 'name', 'deleted', 'color', 'real_name', 'tz',\n       'tz_label', 'tz_offset', 'profile', 'is_admin', 'is_owner',\n       'is_primary_owner', 'is_restricted', 'is_ultra_restricted', 'is_bot',\n       'is_app_user', 'updated'],\n      dtype='object')\nIndex(['type', 'subtype', 'ts', 'user', 'text'], dtype='object')\nIndex(['client_msg_id', 'type', 'text', 'user', 'ts', 'team', 'user_team',\n       'source_team', 'user_profile', 'blocks', 'reactions'],\n      dtype='object')\nIndex(['client_msg_id', 'type', 'text', 'user', 'ts', 'team', 'user_team',\n       'source_team', 'user_profile', 'blocks'],\n      dtype='object')\nIndex(['type', 'subtype', 'ts', 'user', 'text'], dtype='object')\nIndex(['client_msg_id', 'type', 'text', 'user', 'ts', 'team', 'user_team',\n       'source_team', 'user_profile', 'blocks', 'thread_ts', 'parent_user_id',\n       'reply_count', 'reply_users_count', 'latest_reply', 'reply_users',\n       'replies', 'subscribed', 'last_read', 'reactions'],\n      dtype='object')\nIndex(['client_msg_id', 'type', 'text', 'user', 'ts', 'team', 'user_team',\n       'source_team', 'user_profile', 'blocks', 'thread_ts', 'reply_count',\n       'reply_users_count', 'latest_reply', 'reply_users', 'replies',\n       'subscribed', 'last_read'],\n      dtype='object')\nIndex(['type', 'subtype', 'ts', 'user', 'text'], dtype='object')\nIndex(['client_msg_id', 'type', 'text', 'user', 'ts', 'team', 'user_team',\n       'source_team', 'user_profile', 'blocks'],\n      dtype='object')\n"
     ]
    }
   ],
   "source": [
    "import pandas as pd\n",
    "import os\n",
    "\n",
    "### write program, input is the root directory\n",
    "### do the dataframe thing smoother\n",
    "### extract info about the users from the channel file?\n",
    "\n",
    "rootdir = '/Users/klaudiamur/Downloads/commsproject Slack export Feb 5 2020 - Jul 29 2020-1'\n",
    "## add the directory to the export folder\n",
    "\n",
    "dt = pd.DataFrame(columns=['user', 'ts', 'team', 'thread_ts', 'parent_user_id', 'reactions', 'date', 'channel'])\n",
    "users = pd.DataFrame(columns=['user_profile'])\n",
    "\n",
    "for subdir, dirs, files in os.walk(rootdir):\n",
    "    for file in files:\n",
    "        filename = os.fsdecode(file)       \n",
    "        if filename.endswith(\".json\"):\n",
    "            with open(os.path.join(subdir, file)) as f_input:\n",
    "                df = pd.read_json(f_input)\n",
    "                df.to_csv\n",
    "                print(df.columns)\n",
    "                if 'user' and 'ts' in df.columns: \n",
    "                    ind = [i for i in ['user', 'ts', 'team', 'thread_ts', 'parent_user_id', 'reactions'] if i in df.columns]\n",
    "                    #ind_users = [i for i in ['user', 'name', 'real_name', 'first_name'] if i in df.columns]\n",
    "\n",
    "                    data_tmp = df[ind]\n",
    "\n",
    "                    #users_data_tmp = df['user_profile']\n",
    "                        \n",
    "                    data_tmp['date'] = filename.replace('.json','')\n",
    "                    \n",
    "                    data_tmp['channel'] = os.path.basename(subdir)\n",
    "\n",
    "                   # dt = pd.concat([dt, data_tmp])\n",
    "                    users = pd.concat([users, users_data_tmp], axis = 0)\n",
    "\n",
    "#data = pd.concat(dt, sort = False)\n",
    "data = dt\n",
    "\n",
    "users = users.drop_duplicates()\n",
    "data.to_csv(os.path.join(rootdir, 'data.csv'))\n",
    "\n",
    "users.to_csv(os.path.join(rootdir, 'users.csv'))"
   ]
  },
  {
   "cell_type": "code",
   "execution_count": 13,
   "metadata": {},
   "outputs": [
    {
     "output_type": "execute_result",
     "data": {
      "text/plain": [
       "[        user            ts        date  channel\n",
       " 0  UTMM3GJAK  1.580910e+09  2020-02-05  general\n",
       " 1  UTKBTSBB6  1.580910e+09  2020-02-05  general,\n",
       "         user            ts       team  \\\n",
       " 0  UTMM3GJAK  1.596021e+09  TT9LLJFL1   \n",
       " 1  UTKBTSBB6  1.596031e+09  TT9LLJFL1   \n",
       " 2  UTMM3GJAK  1.596035e+09  TT9LLJFL1   \n",
       " \n",
       "                                            reactions        date  channel  \n",
       " 0  [{'name': 'yum', 'users': ['UTMM3GJAK'], 'coun...  2020-07-29  general  \n",
       " 1  [{'name': 'heart_eyes', 'users': ['UTMM3GJAK',...  2020-07-29  general  \n",
       " 2                                                NaN  2020-07-29  general  ,\n",
       "         user            ts       team        date  channel\n",
       " 0  UTMM3GJAK  1.595644e+09  TT9LLJFL1  2020-07-24  general\n",
       " 1  UTMM3GJAK  1.595644e+09  TT9LLJFL1  2020-07-24  general\n",
       " 2  UTMM3GJAK  1.595644e+09  TT9LLJFL1  2020-07-24  general\n",
       " 3  UTMM3GJAK  1.595644e+09  TT9LLJFL1  2020-07-24  general\n",
       " 4  UTMM3GJAK  1.595644e+09  TT9LLJFL1  2020-07-24  general\n",
       " 5  UTMM3GJAK  1.595644e+09  TT9LLJFL1  2020-07-24  general,\n",
       "         user            ts        date      channel\n",
       " 0  UTMM3GJAK  1.580910e+09  2020-02-05  development\n",
       " 1  UTKBTSBB6  1.580910e+09  2020-02-05  development,\n",
       "         user            ts       team     thread_ts parent_user_id  \\\n",
       " 0  UTMM3GJAK  1.596021e+09  TT9LLJFL1  1.595644e+09      UTKBTSBB6   \n",
       " 1  UTKBTSBB6  1.596031e+09  TT9LLJFL1  1.595644e+09      UTKBTSBB6   \n",
       " 2  UTMM3GJAK  1.596031e+09  TT9LLJFL1  1.595644e+09      UTKBTSBB6   \n",
       " 3  UTMM3GJAK  1.596032e+09  TT9LLJFL1  1.596032e+09            NaN   \n",
       " 4  UTKBTSBB6  1.596032e+09  TT9LLJFL1  1.596032e+09      UTMM3GJAK   \n",
       " 5  UTMM3GJAK  1.596043e+09  TT9LLJFL1           NaN            NaN   \n",
       " \n",
       "                                            reactions        date      channel  \n",
       " 0                                                NaN  2020-07-29  development  \n",
       " 1                                                NaN  2020-07-29  development  \n",
       " 2                                                NaN  2020-07-29  development  \n",
       " 3  [{'name': 'space_invader', 'users': ['UTKBTSBB...  2020-07-29  development  \n",
       " 4                                                NaN  2020-07-29  development  \n",
       " 5                                                NaN  2020-07-29  development  ,\n",
       "         user            ts       team     thread_ts        date      channel\n",
       " 0  UTMM3GJAK  1.595644e+09  TT9LLJFL1           NaN  2020-07-24  development\n",
       " 1  UTMM3GJAK  1.595644e+09  TT9LLJFL1           NaN  2020-07-24  development\n",
       " 2  UTMM3GJAK  1.595644e+09  TT9LLJFL1           NaN  2020-07-24  development\n",
       " 3  UTMM3GJAK  1.595644e+09  TT9LLJFL1           NaN  2020-07-24  development\n",
       " 4  UTMM3GJAK  1.595644e+09  TT9LLJFL1           NaN  2020-07-24  development\n",
       " 5  UTMM3GJAK  1.595644e+09  TT9LLJFL1           NaN  2020-07-24  development\n",
       " 6  UTMM3GJAK  1.595644e+09  TT9LLJFL1           NaN  2020-07-24  development\n",
       " 7  UTKBTSBB6  1.595644e+09  TT9LLJFL1  1.595644e+09  2020-07-24  development,\n",
       "         user            ts        date channel\n",
       " 0  UTMM3GJAK  1.580910e+09  2020-02-05  random\n",
       " 1  UTKBTSBB6  1.580910e+09  2020-02-05  random,\n",
       "          user            ts       team        date channel\n",
       " 0   UTKBTSBB6  1.595644e+09  TT9LLJFL1  2020-07-24  random\n",
       " 1   UTMM3GJAK  1.595644e+09  TT9LLJFL1  2020-07-24  random\n",
       " 2   UTMM3GJAK  1.595644e+09  TT9LLJFL1  2020-07-24  random\n",
       " 3   UTMM3GJAK  1.595644e+09  TT9LLJFL1  2020-07-24  random\n",
       " 4   UTMM3GJAK  1.595644e+09  TT9LLJFL1  2020-07-24  random\n",
       " 5   UTMM3GJAK  1.595644e+09  TT9LLJFL1  2020-07-24  random\n",
       " 6   UTMM3GJAK  1.595644e+09  TT9LLJFL1  2020-07-24  random\n",
       " 7   UTMM3GJAK  1.595644e+09  TT9LLJFL1  2020-07-24  random\n",
       " 8   UTMM3GJAK  1.595644e+09  TT9LLJFL1  2020-07-24  random\n",
       " 9   UTMM3GJAK  1.595644e+09  TT9LLJFL1  2020-07-24  random\n",
       " 10  UTMM3GJAK  1.595644e+09  TT9LLJFL1  2020-07-24  random]"
      ]
     },
     "metadata": {},
     "execution_count": 13
    }
   ],
   "source": [
    "dt"
   ]
  },
  {
   "cell_type": "code",
   "execution_count": 14,
   "metadata": {},
   "outputs": [
    {
     "output_type": "execute_result",
     "data": {
      "text/plain": [
       "        user name real_name first_name\n",
       "0  UTMM3GJAK  NaN       NaN        NaN\n",
       "1  UTKBTSBB6  NaN       NaN        NaN"
      ],
      "text/html": "<div>\n<style scoped>\n    .dataframe tbody tr th:only-of-type {\n        vertical-align: middle;\n    }\n\n    .dataframe tbody tr th {\n        vertical-align: top;\n    }\n\n    .dataframe thead th {\n        text-align: right;\n    }\n</style>\n<table border=\"1\" class=\"dataframe\">\n  <thead>\n    <tr style=\"text-align: right;\">\n      <th></th>\n      <th>user</th>\n      <th>name</th>\n      <th>real_name</th>\n      <th>first_name</th>\n    </tr>\n  </thead>\n  <tbody>\n    <tr>\n      <th>0</th>\n      <td>UTMM3GJAK</td>\n      <td>NaN</td>\n      <td>NaN</td>\n      <td>NaN</td>\n    </tr>\n    <tr>\n      <th>1</th>\n      <td>UTKBTSBB6</td>\n      <td>NaN</td>\n      <td>NaN</td>\n      <td>NaN</td>\n    </tr>\n  </tbody>\n</table>\n</div>"
     },
     "metadata": {},
     "execution_count": 14
    }
   ],
   "source": [
    "users"
   ]
  },
  {
   "cell_type": "code",
   "execution_count": null,
   "metadata": {},
   "outputs": [],
   "source": []
  }
 ],
 "metadata": {
  "kernelspec": {
   "display_name": "Python 3.7.3 64-bit",
   "language": "python",
   "name": "python37364bitac598cfa06254ff482c9ebb638bc9b61"
  },
  "language_info": {
   "codemirror_mode": {
    "name": "ipython",
    "version": 3
   },
   "file_extension": ".py",
   "mimetype": "text/x-python",
   "name": "python",
   "nbconvert_exporter": "python",
   "pygments_lexer": "ipython3",
   "version": "3.7.3-final"
  }
 },
 "nbformat": 4,
 "nbformat_minor": 4
}