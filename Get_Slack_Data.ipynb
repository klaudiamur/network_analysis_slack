{
 "cells": [
  {
   "cell_type": "code",
   "execution_count": 1,
   "metadata": {},
   "outputs": [
    {
     "name": "stderr",
     "output_type": "stream",
     "text": [
      "/Library/Frameworks/Python.framework/Versions/3.7/lib/python3.7/site-packages/ipykernel_launcher.py:21: SettingWithCopyWarning: \n",
      "A value is trying to be set on a copy of a slice from a DataFrame.\n",
      "Try using .loc[row_indexer,col_indexer] = value instead\n",
      "\n",
      "See the caveats in the documentation: http://pandas.pydata.org/pandas-docs/stable/user_guide/indexing.html#returning-a-view-versus-a-copy\n",
      "/Library/Frameworks/Python.framework/Versions/3.7/lib/python3.7/site-packages/ipykernel_launcher.py:23: SettingWithCopyWarning: \n",
      "A value is trying to be set on a copy of a slice from a DataFrame.\n",
      "Try using .loc[row_indexer,col_indexer] = value instead\n",
      "\n",
      "See the caveats in the documentation: http://pandas.pydata.org/pandas-docs/stable/user_guide/indexing.html#returning-a-view-versus-a-copy\n"
     ]
    }
   ],
   "source": [
    "import pandas as pd\n",
    "import os\n",
    "\n",
    "rootdir = '/Users/klaudiamur/Downloads/commsproject Slack export Feb 5 2020 - Jul 29 2020-1'\n",
    "## add the directory to the export folder\n",
    "\n",
    "dt = []\n",
    "\n",
    "for subdir, dirs, files in os.walk(rootdir):\n",
    "    for file in files:\n",
    "        filename = os.fsdecode(file)       \n",
    "        if filename.endswith(\".json\"):\n",
    "            #print(dirs)\n",
    "            with open(os.path.join(subdir, file)) as f_input:\n",
    "                df = pd.read_json(f_input)\n",
    "                df.to_csv\n",
    "                if 'user' and 'ts' in df.columns: \n",
    "                    ind = [i for i in ['user', 'ts', 'team', 'thread_ts', 'parent_user_id', 'reactions'] if i in df.columns]\n",
    "                    data_tmp = df[ind]\n",
    "                        \n",
    "                    data_tmp['date'] = filename.replace('.json','')\n",
    "                    \n",
    "                    data_tmp['channel'] = os.path.basename(subdir)\n",
    "\n",
    "                    dt.append(data_tmp)\n",
    "\n",
    "data = pd.concat(dt, sort = False)\n",
    "\n",
    "data.to_csv(os.path.join(rootdir, 'data.csv'))"
   ]
  },
  {
   "cell_type": "code",
   "execution_count": null,
   "metadata": {},
   "outputs": [],
   "source": []
  },
  {
   "cell_type": "code",
   "execution_count": null,
   "metadata": {},
   "outputs": [],
   "source": []
  }
 ],
 "metadata": {
  "kernelspec": {
   "display_name": "Python 3.7.3 64-bit",
   "language": "python",
   "name": "python37364bitac598cfa06254ff482c9ebb638bc9b61"
  },
  "language_info": {
   "codemirror_mode": {
    "name": "ipython",
    "version": 3
   },
   "file_extension": ".py",
   "mimetype": "text/x-python",
   "name": "python",
   "nbconvert_exporter": "python",
   "pygments_lexer": "ipython3",
   "version": "3.7.3"
  }
 },
 "nbformat": 4,
 "nbformat_minor": 4
}
